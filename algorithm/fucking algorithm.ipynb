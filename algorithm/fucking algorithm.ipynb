{
 "cells": [
  {
   "cell_type": "markdown",
   "metadata": {},
   "source": [
    "Source from an interesting github repo:\n",
    "https://github.com/labuladong/fucking-algorithm"
   ]
  },
  {
   "cell_type": "markdown",
   "metadata": {},
   "source": [
    "https://github.com/labuladong/fucking-algorithm/blob/master/%E7%AE%97%E6%B3%95%E6%80%9D%E7%BB%B4%E7%B3%BB%E5%88%97/%E5%AD%A6%E4%B9%A0%E6%95%B0%E6%8D%AE%E7%BB%93%E6%9E%84%E5%92%8C%E7%AE%97%E6%B3%95%E7%9A%84%E9%AB%98%E6%95%88%E6%96%B9%E6%B3%95.md\n",
    "\n",
    "数据结构的基本存储方式就是链式和顺序两种，基本操作就是增删查改，遍历方式无非迭代和递归。\n",
    "\n"
   ]
  },
  {
   "cell_type": "code",
   "execution_count": 15,
   "metadata": {
    "tags": []
   },
   "outputs": [
    {
     "output_type": "stream",
     "name": "stdout",
     "text": "3\n2\nleaf\n1\nleaf\nleaf\nleaf\n"
    }
   ],
   "source": [
    "# \n",
    "class TreeNode():\n",
    "    def __init__(self, val, left= None, right = None):\n",
    "        self.val = val\n",
    "        self.left = left\n",
    "        self.right = right\n",
    "\n",
    "n1 = TreeNode(1, None, None)\n",
    "n2 = TreeNode(2, None, n1)\n",
    "n3 = TreeNode(3, n2, None)\n",
    "\n",
    "def travel(node):\n",
    "    if node == None:\n",
    "        print(f'leaf')\n",
    "        return\n",
    "\n",
    "    print(node.val)\n",
    "    travel(node.left)\n",
    "    travel(node.right)\n",
    "\n",
    "travel(n3)\n"
   ]
  },
  {
   "cell_type": "code",
   "execution_count": 23,
   "metadata": {
    "tags": []
   },
   "outputs": [
    {
     "output_type": "execute_result",
     "data": {
      "text/plain": "144"
     },
     "metadata": {},
     "execution_count": 23
    }
   ],
   "source": [
    "# From https://github.com/labuladong/fucking-algorithm/blob/master/%E5%8A%A8%E6%80%81%E8%A7%84%E5%88%92%E7%B3%BB%E5%88%97/%E5%8A%A8%E6%80%81%E8%A7%84%E5%88%92%E8%AF%A6%E8%A7%A3%E8%BF%9B%E9%98%B6.md\n",
    "# Dynamic programming in fibonaci \n",
    "# 1. Use the most simple way\n",
    "\n",
    "# final = []\n",
    "def fib(n: int) -> int:\n",
    "    # final.append(n)\n",
    "    if n == 1 or n == 2:\n",
    "        return 1\n",
    "    return fib(n - 1) + fib(n-2)\n",
    "fib(12)\n"
   ]
  },
  {
   "cell_type": "code",
   "execution_count": 35,
   "metadata": {
    "tags": []
   },
   "outputs": [
    {
     "output_type": "stream",
     "name": "stdout",
     "text": "remember 11\nremember 10\nremember 9\nremember 8\nremember 7\nremember 6\nremember 5\nremember 4\nremember 3\nremember 2\nremember 1\nusing n2 2\nusing n2 3\nusing n2 4\nusing n2 5\nusing n2 6\nusing n2 7\nusing n2 8\nusing n2 9\nusing n2 10\n"
    },
    {
     "output_type": "execute_result",
     "data": {
      "text/plain": "144"
     },
     "metadata": {},
     "execution_count": 35
    }
   ],
   "source": [
    "# 2: Use a memo to avoid duplicate calculation\n",
    "memo  = {}\n",
    "\n",
    "def fib2(n: int):\n",
    "    if n == 1 or n == 2:\n",
    "        return 1\n",
    "    a = 0\n",
    "    b = 0\n",
    "    \n",
    "    # n-1 first or n-2 first will cause different order\n",
    "    if n-1 in memo:\n",
    "        print('using n1')\n",
    "        a = memo[n-1]\n",
    "    else:\n",
    "        print(f'remember {n-1}')\n",
    "        memo[n-1] = fib2(n-1)\n",
    "        a = memo[n-1]\n",
    "\n",
    "    if n-2 in memo:\n",
    "        print(f'using n2 {n-2}')\n",
    "        b = memo[n-2]\n",
    "    else:\n",
    "        print(f'remember {n-2}')\n",
    "        memo[n-2] = fib2(n-2)\n",
    "        b = memo[n-2]\n",
    "\n",
    "    return a + b\n",
    "fib2(12)"
   ]
  },
  {
   "cell_type": "code",
   "execution_count": 6,
   "metadata": {
    "tags": []
   },
   "outputs": [
    {
     "output_type": "stream",
     "name": "stdout",
     "text": "2\n3\n5\n8\n13\n21\n34\n55\n89\n144\n144\n"
    }
   ],
   "source": [
    "# Use latest value for fib\n",
    "def fib3(n):\n",
    "    if n== 1 or n ==2:\n",
    "        return 1\n",
    "    prev = 1\n",
    "    curr = 1 \n",
    "    for i in range(3,n+1):\n",
    "        sum = prev + curr \n",
    "        prev = curr \n",
    "        curr = sum \n",
    "        print(curr)\n",
    "    \n",
    "    return curr \n",
    "\n",
    "print(fib3(12))\n",
    "    \n"
   ]
  },
  {
   "cell_type": "code",
   "execution_count": null,
   "metadata": {},
   "outputs": [],
   "source": []
  }
 ],
 "metadata": {
  "language_info": {
   "codemirror_mode": {
    "name": "ipython",
    "version": 3
   },
   "file_extension": ".py",
   "mimetype": "text/x-python",
   "name": "python",
   "nbconvert_exporter": "python",
   "pygments_lexer": "ipython3",
   "version": "3.7.5-final"
  },
  "orig_nbformat": 2,
  "kernelspec": {
   "name": "python37564bit1a8405a79abf4c7eb2fe28e40e6be1ff",
   "display_name": "Python 3.7.5 64-bit"
  }
 },
 "nbformat": 4,
 "nbformat_minor": 2
}